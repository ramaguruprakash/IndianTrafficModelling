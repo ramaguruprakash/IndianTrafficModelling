{
 "cells": [
  {
   "cell_type": "code",
   "execution_count": 1,
   "metadata": {
    "collapsed": true
   },
   "outputs": [],
   "source": [
    "import cv2\n",
    "import numpy as np\n",
    "from objectDetectionLib import addBoundingBoxesImage\n",
    "from objectDetectionLib import visualizeBoundingBoxesVideo\n",
    "from objectDetectionLib import preComputeBoundingBoxes"
   ]
  },
  {
   "cell_type": "code",
   "execution_count": 2,
   "metadata": {
    "collapsed": true
   },
   "outputs": [],
   "source": [
    "videoFileName = \"/Users/gramaguru/ComputerVision/computer-vision/trafficSimulation/data/Trimmed_trafficVideo.mp4\"\n",
    "#image = cv2.imread(\"/Users/gramaguru/ComputerVision/computer-vision/trafficSimulation/data/traffic_image.jpg\")"
   ]
  },
  {
   "cell_type": "code",
   "execution_count": 4,
   "metadata": {},
   "outputs": [
    {
     "name": "stdout",
     "output_type": "stream",
     "text": [
      "mv darknet/preComputed.txt /Users/gramaguru/ComputerVision/computer-vision/trafficSimulation/data/Trimmed_trafficVideo_predict.txt\n"
     ]
    }
   ],
   "source": [
    "#image = addBoundingBoxesImage(image)\n",
    "preComputeBoundingBoxes(videoFileName, 10, (384, 512, 3))"
   ]
  },
  {
   "cell_type": "code",
   "execution_count": null,
   "metadata": {
    "collapsed": true
   },
   "outputs": [],
   "source": [
    "#cv2.imshow(\"image\", image)\n",
    "#cv2.waitKey(0)"
   ]
  },
  {
   "cell_type": "code",
   "execution_count": null,
   "metadata": {
    "collapsed": true
   },
   "outputs": [],
   "source": []
  }
 ],
 "metadata": {
  "kernelspec": {
   "display_name": "Python 2",
   "language": "python",
   "name": "python2"
  },
  "language_info": {
   "codemirror_mode": {
    "name": "ipython",
    "version": 2
   },
   "file_extension": ".py",
   "mimetype": "text/x-python",
   "name": "python",
   "nbconvert_exporter": "python",
   "pygments_lexer": "ipython2",
   "version": "2.7.13"
  }
 },
 "nbformat": 4,
 "nbformat_minor": 2
}
