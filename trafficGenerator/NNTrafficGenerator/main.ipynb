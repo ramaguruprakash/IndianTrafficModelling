{
 "cells": [
  {
   "cell_type": "code",
   "execution_count": null,
   "metadata": {
    "collapsed": true
   },
   "outputs": [],
   "source": [
    "#! /users/guruprakash.r/miniconda2/bin/python\n",
    "\n",
    "from globalHyperP import *\n",
    "from train import train\n",
    "from generate import generate\n",
    "from dataLoader import getTrainingData\n",
    "\n",
    "if __name__ == \"__main__\":\n",
    "\tdata = getTrainingData(1000,10,0,0)\n",
    "\tprint \"data is fetched \" , len(data)\n",
    "\tlo = train(100, data)\n",
    "\tprint \"data is fetched \" , len(data)\n",
    "\tprint lo\n",
    "\t## Now train the network, print the loss at every step.\n",
    "\t## Now generate the network after the loss is reduced."
   ]
  }
 ],
 "metadata": {
  "kernelspec": {
   "display_name": "Python 2",
   "language": "python",
   "name": "python2"
  },
  "language_info": {
   "codemirror_mode": {
    "name": "ipython",
    "version": 2
   },
   "file_extension": ".py",
   "mimetype": "text/x-python",
   "name": "python",
   "nbconvert_exporter": "python",
   "pygments_lexer": "ipython2",
   "version": "2.7.13"
  }
 },
 "nbformat": 4,
 "nbformat_minor": 2
}
